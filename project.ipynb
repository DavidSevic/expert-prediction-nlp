{
 "cells": [
  {
   "cell_type": "markdown",
   "id": "62ae23d9-a1b9-4db1-b36b-16c390cf253a",
   "metadata": {},
   "source": [
    "# Data set analysis"
   ]
  },
  {
   "cell_type": "markdown",
   "id": "0d372ac2-8453-40c2-886b-fca80f8abf30",
   "metadata": {},
   "source": [
    "#### Import the input data"
   ]
  },
  {
   "cell_type": "code",
   "execution_count": 3,
   "id": "b7862cad-f990-46fb-a802-324bd18af865",
   "metadata": {},
   "outputs": [],
   "source": [
    "#!pip install pandas\n",
    "import pandas as pd\n",
    "\n",
    "data = pd.read_csv('data_eng.csv')"
   ]
  },
  {
   "cell_type": "markdown",
   "id": "2a4f96e6-dea3-4ce6-a746-630bd30b8e53",
   "metadata": {},
   "source": [
    "#### Input data summary"
   ]
  },
  {
   "cell_type": "code",
   "execution_count": 4,
   "id": "b9e01918-33a2-4e4b-afd8-c23c8647524d",
   "metadata": {},
   "outputs": [
    {
     "data": {
      "text/html": [
       "<div>\n",
       "<style scoped>\n",
       "    .dataframe tbody tr th:only-of-type {\n",
       "        vertical-align: middle;\n",
       "    }\n",
       "\n",
       "    .dataframe tbody tr th {\n",
       "        vertical-align: top;\n",
       "    }\n",
       "\n",
       "    .dataframe thead th {\n",
       "        text-align: right;\n",
       "    }\n",
       "</style>\n",
       "<table border=\"1\" class=\"dataframe\">\n",
       "  <thead>\n",
       "    <tr style=\"text-align: right;\">\n",
       "      <th></th>\n",
       "      <th>ticket_description</th>\n",
       "      <th>expert_id</th>\n",
       "    </tr>\n",
       "  </thead>\n",
       "  <tbody>\n",
       "    <tr>\n",
       "      <th>count</th>\n",
       "      <td>200</td>\n",
       "      <td>200</td>\n",
       "    </tr>\n",
       "    <tr>\n",
       "      <th>unique</th>\n",
       "      <td>20</td>\n",
       "      <td>10</td>\n",
       "    </tr>\n",
       "    <tr>\n",
       "      <th>top</th>\n",
       "      <td>Error 404 when accessing the application.</td>\n",
       "      <td>expert_4</td>\n",
       "    </tr>\n",
       "    <tr>\n",
       "      <th>freq</th>\n",
       "      <td>14</td>\n",
       "      <td>27</td>\n",
       "    </tr>\n",
       "  </tbody>\n",
       "</table>\n",
       "</div>"
      ],
      "text/plain": [
       "                               ticket_description expert_id\n",
       "count                                         200       200\n",
       "unique                                         20        10\n",
       "top     Error 404 when accessing the application.  expert_4\n",
       "freq                                           14        27"
      ]
     },
     "execution_count": 4,
     "metadata": {},
     "output_type": "execute_result"
    }
   ],
   "source": [
    "data.describe()"
   ]
  },
  {
   "cell_type": "markdown",
   "id": "e5fc66ab-243c-4d55-a49b-3a57c24a7575",
   "metadata": {},
   "source": [
    "#### Check for null values"
   ]
  },
  {
   "cell_type": "code",
   "execution_count": 5,
   "id": "c0bb40da-0432-4c02-b02d-3602929354b1",
   "metadata": {},
   "outputs": [
    {
     "name": "stdout",
     "output_type": "stream",
     "text": [
      "<class 'pandas.core.frame.DataFrame'>\n",
      "RangeIndex: 200 entries, 0 to 199\n",
      "Data columns (total 2 columns):\n",
      " #   Column              Non-Null Count  Dtype \n",
      "---  ------              --------------  ----- \n",
      " 0   ticket_description  200 non-null    object\n",
      " 1   expert_id           200 non-null    object\n",
      "dtypes: object(2)\n",
      "memory usage: 3.3+ KB\n"
     ]
    }
   ],
   "source": [
    "data.info()"
   ]
  },
  {
   "cell_type": "markdown",
   "id": "95edaa58-75cf-4cea-9fc6-ee58b4351aba",
   "metadata": {},
   "source": [
    "#### Check validity of values"
   ]
  },
  {
   "cell_type": "code",
   "execution_count": 6,
   "id": "988ba76f-f67a-428d-b80e-ef90b382b8e2",
   "metadata": {},
   "outputs": [
    {
     "data": {
      "text/html": [
       "<div>\n",
       "<style scoped>\n",
       "    .dataframe tbody tr th:only-of-type {\n",
       "        vertical-align: middle;\n",
       "    }\n",
       "\n",
       "    .dataframe tbody tr th {\n",
       "        vertical-align: top;\n",
       "    }\n",
       "\n",
       "    .dataframe thead th {\n",
       "        text-align: right;\n",
       "    }\n",
       "</style>\n",
       "<table border=\"1\" class=\"dataframe\">\n",
       "  <thead>\n",
       "    <tr style=\"text-align: right;\">\n",
       "      <th></th>\n",
       "      <th>ticket_description</th>\n",
       "      <th>expert_id</th>\n",
       "    </tr>\n",
       "  </thead>\n",
       "  <tbody>\n",
       "    <tr>\n",
       "      <th>count</th>\n",
       "      <td>200</td>\n",
       "      <td>200</td>\n",
       "    </tr>\n",
       "    <tr>\n",
       "      <th>unique</th>\n",
       "      <td>20</td>\n",
       "      <td>10</td>\n",
       "    </tr>\n",
       "    <tr>\n",
       "      <th>top</th>\n",
       "      <td>Error 404 when accessing the application.</td>\n",
       "      <td>expert_4</td>\n",
       "    </tr>\n",
       "    <tr>\n",
       "      <th>freq</th>\n",
       "      <td>14</td>\n",
       "      <td>27</td>\n",
       "    </tr>\n",
       "  </tbody>\n",
       "</table>\n",
       "</div>"
      ],
      "text/plain": [
       "                               ticket_description expert_id\n",
       "count                                         200       200\n",
       "unique                                         20        10\n",
       "top     Error 404 when accessing the application.  expert_4\n",
       "freq                                           14        27"
      ]
     },
     "execution_count": 6,
     "metadata": {},
     "output_type": "execute_result"
    }
   ],
   "source": [
    "import re\n",
    "\n",
    "def check_row(row):\n",
    "    c1 = len(row['ticket_description'].strip()) > 0\n",
    "    c2 = bool(re.match(r'^expert_\\d+$', row['expert_id']))\n",
    "    return c1 and c2\n",
    "\n",
    "data_cleaned = data[data.apply(check_row, axis=1)]\n",
    "\n",
    "data = data_cleaned.reset_index(drop=True)\n",
    "\n",
    "data.describe()"
   ]
  },
  {
   "cell_type": "markdown",
   "id": "4b91b233-721b-41b7-88a7-f14378c3399a",
   "metadata": {},
   "source": [
    "#### Removing the duplicates"
   ]
  },
  {
   "cell_type": "code",
   "execution_count": 7,
   "id": "7a2b295c-7598-4c3d-a701-8806e0949b53",
   "metadata": {},
   "outputs": [
    {
     "data": {
      "text/html": [
       "<div>\n",
       "<style scoped>\n",
       "    .dataframe tbody tr th:only-of-type {\n",
       "        vertical-align: middle;\n",
       "    }\n",
       "\n",
       "    .dataframe tbody tr th {\n",
       "        vertical-align: top;\n",
       "    }\n",
       "\n",
       "    .dataframe thead th {\n",
       "        text-align: right;\n",
       "    }\n",
       "</style>\n",
       "<table border=\"1\" class=\"dataframe\">\n",
       "  <thead>\n",
       "    <tr style=\"text-align: right;\">\n",
       "      <th></th>\n",
       "      <th>ticket_description</th>\n",
       "      <th>expert_id</th>\n",
       "    </tr>\n",
       "  </thead>\n",
       "  <tbody>\n",
       "    <tr>\n",
       "      <th>count</th>\n",
       "      <td>124</td>\n",
       "      <td>124</td>\n",
       "    </tr>\n",
       "    <tr>\n",
       "      <th>unique</th>\n",
       "      <td>20</td>\n",
       "      <td>10</td>\n",
       "    </tr>\n",
       "    <tr>\n",
       "      <th>top</th>\n",
       "      <td>Incorrect timezone in reports.</td>\n",
       "      <td>expert_0</td>\n",
       "    </tr>\n",
       "    <tr>\n",
       "      <th>freq</th>\n",
       "      <td>8</td>\n",
       "      <td>16</td>\n",
       "    </tr>\n",
       "  </tbody>\n",
       "</table>\n",
       "</div>"
      ],
      "text/plain": [
       "                    ticket_description expert_id\n",
       "count                              124       124\n",
       "unique                              20        10\n",
       "top     Incorrect timezone in reports.  expert_0\n",
       "freq                                 8        16"
      ]
     },
     "execution_count": 7,
     "metadata": {},
     "output_type": "execute_result"
    }
   ],
   "source": [
    "data = data.drop_duplicates()\n",
    "data.describe()"
   ]
  },
  {
   "cell_type": "markdown",
   "id": "d82db8f5-f575-476a-bfd9-ac231cc62882",
   "metadata": {},
   "source": [
    "#### Analyzing the distribution"
   ]
  },
  {
   "cell_type": "code",
   "execution_count": 8,
   "id": "3eb6976f-d138-460a-b78c-95897cf7e635",
   "metadata": {},
   "outputs": [
    {
     "data": {
      "text/plain": [
       "array(['expert_6', 'expert_4', 'expert_5', 'expert_0', 'expert_2',\n",
       "       'expert_9', 'expert_8', 'expert_1', 'expert_3', 'expert_7'],\n",
       "      dtype=object)"
      ]
     },
     "execution_count": 8,
     "metadata": {},
     "output_type": "execute_result"
    }
   ],
   "source": [
    "unique_experts = data['expert_id'].unique()\n",
    "unique_experts"
   ]
  },
  {
   "cell_type": "code",
   "execution_count": 9,
   "id": "6c30d180-9cc6-4430-87a6-b6f5eece7a67",
   "metadata": {},
   "outputs": [
    {
     "data": {
      "text/plain": [
       "expert_id\n",
       "expert_0    16\n",
       "expert_4    15\n",
       "expert_2    15\n",
       "expert_8    14\n",
       "expert_3    13\n",
       "expert_5    12\n",
       "expert_1    11\n",
       "expert_9    10\n",
       "expert_6     9\n",
       "expert_7     9\n",
       "Name: count, dtype: int64"
      ]
     },
     "execution_count": 9,
     "metadata": {},
     "output_type": "execute_result"
    }
   ],
   "source": [
    "distribution_experts = data['expert_id'].value_counts()\n",
    "distribution_experts"
   ]
  },
  {
   "cell_type": "markdown",
   "id": "9c3e8294-fa77-4a1e-a6c3-696b9735139a",
   "metadata": {},
   "source": [
    "#### Plot the distribution"
   ]
  },
  {
   "cell_type": "code",
   "execution_count": 10,
   "id": "f02fa57c-334e-47c6-af91-436e829a2685",
   "metadata": {},
   "outputs": [
    {
     "data": {
      "image/png": "[encoded data removed]",
      "text/plain": [
       "<Figure size 1000x600 with 1 Axes>"
      ]
     },
     "metadata": {},
     "output_type": "display_data"
    }
   ],
   "source": [
    "import matplotlib.pyplot as plt\n",
    "\n",
    "distribution_experts.plot(kind='bar', figsize=(10, 6))\n",
    "plt.xlabel('expert id')\n",
    "plt.ylabel('count')\n",
    "plt.show()"
   ]
  },
  {
   "cell_type": "markdown",
   "id": "fe0ecca8-5424-4a73-9cc6-1de938ac43be",
   "metadata": {},
   "source": [
    "##### There is no significance class imbalance"
   ]
  },
  {
   "cell_type": "markdown",
   "id": "b0a5fad8-d784-40cd-97e2-b7620ec49bd7",
   "metadata": {},
   "source": [
    "# Base model: Bayes classification"
   ]
  },
  {
   "cell_type": "markdown",
   "id": "e98ba0df-b358-48d7-9af4-9971395b6f5a",
   "metadata": {},
   "source": [
    "#### Split the data into train and test"
   ]
  },
  {
   "cell_type": "code",
   "execution_count": 11,
   "id": "2c8b8189-6e15-4e22-b688-e0bf2660ffd4",
   "metadata": {},
   "outputs": [],
   "source": [
    "import random\n",
    "import numpy as np\n",
    "\n",
    "def assign_train_test_split(df, train_ratio=0.8):\n",
    "    df1 = df.copy()\n",
    "    random_numbers = np.random.rand(len(df1))\n",
    "    df1['split'] = np.where(random_numbers <= train_ratio, 'train', 'test')\n",
    "    return df1\n",
    "\n",
    "data = assign_train_test_split(data)"
   ]
  },
  {
   "cell_type": "code",
   "execution_count": 12,
   "id": "c4fad8c3-4eaa-4539-b8ec-6eafc5cb0984",
   "metadata": {},
   "outputs": [
    {
     "data": {
      "text/plain": [
       "split\n",
       "train    0.75\n",
       "test     0.25\n",
       "Name: proportion, dtype: float64"
      ]
     },
     "execution_count": 12,
     "metadata": {},
     "output_type": "execute_result"
    }
   ],
   "source": [
    "data.value_counts('split', normalize=True)"
   ]
  },
  {
   "cell_type": "markdown",
   "id": "479a1849-27bf-4f52-b967-b41d0d9f9446",
   "metadata": {},
   "source": [
    "##### The train label is 100/124 ~ 80%"
   ]
  },
  {
   "cell_type": "code",
   "execution_count": 13,
   "id": "ae29cdb9-e069-4d04-be9f-102427111f9d",
   "metadata": {},
   "outputs": [],
   "source": [
    "#!pip install scikit-learn\n",
    "from sklearn.feature_extraction.text import TfidfVectorizer\n",
    "from sklearn.naive_bayes import MultinomialNB\n",
    "from sklearn.linear_model import LogisticRegression\n",
    "from sklearn.metrics import f1_score"
   ]
  },
  {
   "cell_type": "code",
   "execution_count": 14,
   "id": "596cacad-6fe8-48b3-851b-3c13f477fe8e",
   "metadata": {},
   "outputs": [],
   "source": [
    "def get_tfidf_vectors_and_labels(df, split=\"train\", vectorizer=None):\n",
    "    if vectorizer is None:\n",
    "        vectorizer = TfidfVectorizer(max_features=100)\n",
    "    if split == \"train\":\n",
    "        vectorizer.fit(df[df.split == split]['ticket_description'])\n",
    "    vectors = vectorizer.transform(df[df.split == split]['ticket_description'])\n",
    "    labels = df[df.split == split]['expert_id']\n",
    "    return vectors.toarray(), labels, vectorizer"
   ]
  },
  {
   "cell_type": "code",
   "execution_count": 15,
   "id": "9ffa6f0d-e100-4465-adca-4c394d7ef50a",
   "metadata": {},
   "outputs": [],
   "source": [
    "def do_tfidf_prediction(df, max_features, model='nb'):\n",
    "    vectorizer = TfidfVectorizer(max_features=max_features)\n",
    "    vectors_train, labels_train, vectorizer = get_tfidf_vectors_and_labels(df, split=\"train\", vectorizer=vectorizer)\n",
    "    vectors_test, labels_test, _ = get_tfidf_vectors_and_labels(df, split=\"test\", vectorizer=vectorizer)\n",
    "    \n",
    "    if model == 'nb':\n",
    "        classifier = MultinomialNB().fit(vectors_train, labels_train)\n",
    "    else:\n",
    "        classifier = LogisticRegression().fit(vectors_train, labels_train)\n",
    "    \n",
    "    predicted_train = classifier.predict(vectors_train)\n",
    "    predicted_test = classifier.predict(vectors_test)\n",
    "    f1_train = f1_score(labels_train, predicted_train, average='macro')\n",
    "    f1_test = f1_score(labels_test, predicted_test, average='macro')\n",
    "    accuracy = (predicted_test == labels_test).sum() / len(predicted_test)\n",
    "    return f1_train, f1_test, accuracy"
   ]
  },
  {
   "cell_type": "code",
   "execution_count": 16,
   "id": "03f91b28-2a9f-4b61-a486-89a3121996d5",
   "metadata": {},
   "outputs": [
    {
     "data": {
      "text/plain": [
       "(np.float64(0.13352257069904128),\n",
       " np.float64(0.01818181818181818),\n",
       " np.float64(0.03225806451612903))"
      ]
     },
     "execution_count": 16,
     "metadata": {},
     "output_type": "execute_result"
    }
   ],
   "source": [
    "f1_train, f1_test, accuracy = do_tfidf_prediction(data, max_features = 10)\n",
    "f1_train, f1_test, accuracy"
   ]
  },
  {
   "cell_type": "code",
   "execution_count": 17,
   "id": "d9027630-b75c-4208-9db4-a1b412729615",
   "metadata": {},
   "outputs": [
    {
     "data": {
      "text/plain": [
       "<matplotlib.legend.Legend at 0x17c55ae5010>"
      ]
     },
     "execution_count": 17,
     "metadata": {},
     "output_type": "execute_result"
    },
    {
     "data": {
      "image/png": "[encoded data removed]",
      "text/plain": [
       "<Figure size 640x480 with 1 Axes>"
      ]
     },
     "metadata": {},
     "output_type": "display_data"
    }
   ],
   "source": [
    "f1_scores_train = []\n",
    "f1_scores_valid = []\n",
    "max_features_array = [2, 4, 6, 8, 16, 32, 64, 128, 256]\n",
    "for max_features in max_features_array:\n",
    "    f1_train, f1_valid, acc = do_tfidf_prediction(data, max_features = max_features)\n",
    "    f1_scores_train.append(f1_train)\n",
    "    f1_scores_valid.append(f1_valid)\n",
    "\n",
    "plt.plot(np.arange(len(max_features_array)),f1_scores_train,label=\"F1 Train\")\n",
    "plt.plot(np.arange(len(max_features_array)),f1_scores_valid,label=\"F1 Test\")\n",
    "plt.xticks(np.arange(len(max_features_array)),max_features_array)\n",
    "plt.xlabel(\"Number of Features\")\n",
    "plt.ylabel(\"F1 score\")\n",
    "plt.legend()"
   ]
  },
  {
   "cell_type": "markdown",
   "id": "6075272a-3498-4d9e-a4ea-02923246fa85",
   "metadata": {},
   "source": [
    "# First model: BERT"
   ]
  },
  {
   "cell_type": "code",
   "execution_count": null,
   "id": "0c770bac-0f8f-4c08-b1a7-eab33317dbf9",
   "metadata": {},
   "outputs": [],
   "source": []
  },
  {
   "cell_type": "code",
   "execution_count": null,
   "id": "5d656809-6a80-4684-8191-e2318d6cb79b",
   "metadata": {},
   "outputs": [],
   "source": []
  }
 ],
 "metadata": {
  "kernelspec": {
   "display_name": "Python 3 (ipykernel)",
   "language": "python",
   "name": "python3"
  },
  "language_info": {
   "codemirror_mode": {
    "name": "ipython",
    "version": 3
   },
   "file_extension": ".py",
   "mimetype": "text/x-python",
   "name": "python",
   "nbconvert_exporter": "python",
   "pygments_lexer": "ipython3",
   "version": "3.13.0"
  }
 },
 "nbformat": 4,
 "nbformat_minor": 5
}
