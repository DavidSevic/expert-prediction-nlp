{
 "cells": [
  {
   "cell_type": "markdown",
   "id": "62ae23d9-a1b9-4db1-b36b-16c390cf253a",
   "metadata": {},
   "source": [
    "# Data set analysis"
   ]
  },
  {
   "cell_type": "markdown",
   "id": "0d372ac2-8453-40c2-886b-fca80f8abf30",
   "metadata": {},
   "source": [
    "#### Process the input data"
   ]
  },
  {
   "cell_type": "code",
   "execution_count": 1,
   "id": "db37fc7e-5d7a-4e77-810e-a3f1690b1d80",
   "metadata": {},
   "outputs": [],
   "source": [
    "#!pip install pandas\n",
    "import pandas as pd\n",
    "import csv"
   ]
  },
  {
   "cell_type": "markdown",
   "id": "043f6382-1f3f-4230-a99e-17719e186b79",
   "metadata": {},
   "source": [
    "##### Changin the delimiter from ',' to ';'"
   ]
  },
  {
   "cell_type": "code",
   "execution_count": 2,
   "id": "b7862cad-f990-46fb-a802-324bd18af865",
   "metadata": {},
   "outputs": [],
   "source": [
    "with open('data.csv', 'r') as input_file, open('data_all.csv', 'w', newline='') as output_file:\n",
    "    writer = csv.writer(output_file, delimiter=';')\n",
    "    for line in input_file:\n",
    "        line = line.strip()\n",
    "        \n",
    "        last_comma = line.rfind(',')\n",
    "\n",
    "        if last_comma != -1:\n",
    "            row = [line[:last_comma], line[last_comma + 1:]]\n",
    "            \n",
    "        writer.writerow(row)"
   ]
  },
  {
   "cell_type": "markdown",
   "id": "30c65a25-5955-4331-88cd-f6fb510b8a50",
   "metadata": {},
   "source": [
    "##### Importing the data"
   ]
  },
  {
   "cell_type": "code",
   "execution_count": 3,
   "id": "e5037e7d-5c68-43d9-88fc-6e02cad1152f",
   "metadata": {},
   "outputs": [
    {
     "data": {
      "text/html": [
       "<div>\n",
       "<style scoped>\n",
       "    .dataframe tbody tr th:only-of-type {\n",
       "        vertical-align: middle;\n",
       "    }\n",
       "\n",
       "    .dataframe tbody tr th {\n",
       "        vertical-align: top;\n",
       "    }\n",
       "\n",
       "    .dataframe thead th {\n",
       "        text-align: right;\n",
       "    }\n",
       "</style>\n",
       "<table border=\"1\" class=\"dataframe\">\n",
       "  <thead>\n",
       "    <tr style=\"text-align: right;\">\n",
       "      <th></th>\n",
       "      <th>ticket_description</th>\n",
       "      <th>expert_id</th>\n",
       "    </tr>\n",
       "  </thead>\n",
       "  <tbody>\n",
       "    <tr>\n",
       "      <th>count</th>\n",
       "      <td>400</td>\n",
       "      <td>400</td>\n",
       "    </tr>\n",
       "    <tr>\n",
       "      <th>unique</th>\n",
       "      <td>40</td>\n",
       "      <td>10</td>\n",
       "    </tr>\n",
       "    <tr>\n",
       "      <th>top</th>\n",
       "      <td>Les permissions des rôles d'utilisateur ne fon...</td>\n",
       "      <td>expert_8</td>\n",
       "    </tr>\n",
       "    <tr>\n",
       "      <th>freq</th>\n",
       "      <td>16</td>\n",
       "      <td>53</td>\n",
       "    </tr>\n",
       "  </tbody>\n",
       "</table>\n",
       "</div>"
      ],
      "text/plain": [
       "                                       ticket_description expert_id\n",
       "count                                                 400       400\n",
       "unique                                                 40        10\n",
       "top     Les permissions des rôles d'utilisateur ne fon...  expert_8\n",
       "freq                                                   16        53"
      ]
     },
     "execution_count": 3,
     "metadata": {},
     "output_type": "execute_result"
    }
   ],
   "source": [
    "data_all = pd.read_csv('data_all.csv', sep=';')\n",
    "data_all.describe()"
   ]
  },
  {
   "cell_type": "markdown",
   "id": "a82c43db-6bb5-4d5e-9c3b-46724b8dc352",
   "metadata": {},
   "source": [
    "##### Normalizing characters"
   ]
  },
  {
   "cell_type": "code",
   "execution_count": 4,
   "id": "baa5b3e1-3374-4cf5-873b-65403a62b761",
   "metadata": {},
   "outputs": [],
   "source": [
    "import unicodedata\n",
    "\n",
    "def normalize_chars(text):\n",
    "    if isinstance(text, str):\n",
    "        normalized = unicodedata.normalize('NFKD', text)\n",
    "        no_diacritics = ''.join(char for char in normalized if not unicodedata.combining(char))\n",
    "        return no_diacritics\n",
    "    return text\n",
    "\n",
    "data_all['ticket_description'] = data_all['ticket_description'].apply(normalize_chars)\n",
    "\n",
    "data_all.to_csv('data_all_normalized.csv', sep=';', index=False)"
   ]
  },
  {
   "cell_type": "markdown",
   "id": "e5fc66ab-243c-4d55-a49b-3a57c24a7575",
   "metadata": {},
   "source": [
    "##### Check for null values"
   ]
  },
  {
   "cell_type": "code",
   "execution_count": 5,
   "id": "c0bb40da-0432-4c02-b02d-3602929354b1",
   "metadata": {},
   "outputs": [
    {
     "name": "stdout",
     "output_type": "stream",
     "text": [
      "<class 'pandas.core.frame.DataFrame'>\n",
      "RangeIndex: 400 entries, 0 to 399\n",
      "Data columns (total 2 columns):\n",
      " #   Column              Non-Null Count  Dtype \n",
      "---  ------              --------------  ----- \n",
      " 0   ticket_description  400 non-null    object\n",
      " 1   expert_id           400 non-null    object\n",
      "dtypes: object(2)\n",
      "memory usage: 6.4+ KB\n"
     ]
    }
   ],
   "source": [
    "data_all.info()"
   ]
  },
  {
   "cell_type": "markdown",
   "id": "95edaa58-75cf-4cea-9fc6-ee58b4351aba",
   "metadata": {},
   "source": [
    "##### Check testity of values"
   ]
  },
  {
   "cell_type": "code",
   "execution_count": 6,
   "id": "988ba76f-f67a-428d-b80e-ef90b382b8e2",
   "metadata": {},
   "outputs": [
    {
     "data": {
      "text/html": [
       "<div>\n",
       "<style scoped>\n",
       "    .dataframe tbody tr th:only-of-type {\n",
       "        vertical-align: middle;\n",
       "    }\n",
       "\n",
       "    .dataframe tbody tr th {\n",
       "        vertical-align: top;\n",
       "    }\n",
       "\n",
       "    .dataframe thead th {\n",
       "        text-align: right;\n",
       "    }\n",
       "</style>\n",
       "<table border=\"1\" class=\"dataframe\">\n",
       "  <thead>\n",
       "    <tr style=\"text-align: right;\">\n",
       "      <th></th>\n",
       "      <th>ticket_description</th>\n",
       "      <th>expert_id</th>\n",
       "    </tr>\n",
       "  </thead>\n",
       "  <tbody>\n",
       "    <tr>\n",
       "      <th>count</th>\n",
       "      <td>400</td>\n",
       "      <td>400</td>\n",
       "    </tr>\n",
       "    <tr>\n",
       "      <th>unique</th>\n",
       "      <td>40</td>\n",
       "      <td>10</td>\n",
       "    </tr>\n",
       "    <tr>\n",
       "      <th>top</th>\n",
       "      <td>Les permissions des roles d'utilisateur ne fon...</td>\n",
       "      <td>expert_8</td>\n",
       "    </tr>\n",
       "    <tr>\n",
       "      <th>freq</th>\n",
       "      <td>16</td>\n",
       "      <td>53</td>\n",
       "    </tr>\n",
       "  </tbody>\n",
       "</table>\n",
       "</div>"
      ],
      "text/plain": [
       "                                       ticket_description expert_id\n",
       "count                                                 400       400\n",
       "unique                                                 40        10\n",
       "top     Les permissions des roles d'utilisateur ne fon...  expert_8\n",
       "freq                                                   16        53"
      ]
     },
     "execution_count": 6,
     "metadata": {},
     "output_type": "execute_result"
    }
   ],
   "source": [
    "import re\n",
    "\n",
    "def check_row(row):\n",
    "    c1 = len(row['ticket_description'].strip()) > 0\n",
    "    c2 = bool(re.match(r'^expert_\\d+$', row['expert_id']))\n",
    "    return c1 and c2\n",
    "\n",
    "data_all_cleaned = data_all[data_all.apply(check_row, axis=1)]\n",
    "\n",
    "data_all = data_all_cleaned.reset_index(drop=True)\n",
    "\n",
    "data_all.describe()"
   ]
  },
  {
   "cell_type": "markdown",
   "id": "17f3c35b-3ad2-43da-b7cd-ecc6041b6b9c",
   "metadata": {},
   "source": [
    "##### Change the label type from string to integer"
   ]
  },
  {
   "cell_type": "code",
   "execution_count": 7,
   "id": "77234975-0fe1-40b9-b5f2-1f2a5b1aff0a",
   "metadata": {},
   "outputs": [
    {
     "data": {
      "text/html": [
       "<div>\n",
       "<style scoped>\n",
       "    .dataframe tbody tr th:only-of-type {\n",
       "        vertical-align: middle;\n",
       "    }\n",
       "\n",
       "    .dataframe tbody tr th {\n",
       "        vertical-align: top;\n",
       "    }\n",
       "\n",
       "    .dataframe thead th {\n",
       "        text-align: right;\n",
       "    }\n",
       "</style>\n",
       "<table border=\"1\" class=\"dataframe\">\n",
       "  <thead>\n",
       "    <tr style=\"text-align: right;\">\n",
       "      <th></th>\n",
       "      <th>ticket_description</th>\n",
       "      <th>expert_id</th>\n",
       "    </tr>\n",
       "  </thead>\n",
       "  <tbody>\n",
       "    <tr>\n",
       "      <th>0</th>\n",
       "      <td>Data not syncing with the cloud.</td>\n",
       "      <td>6</td>\n",
       "    </tr>\n",
       "    <tr>\n",
       "      <th>1</th>\n",
       "      <td>System reports inaccurate metrics.</td>\n",
       "      <td>4</td>\n",
       "    </tr>\n",
       "    <tr>\n",
       "      <th>2</th>\n",
       "      <td>Payment gateway timeout error.</td>\n",
       "      <td>5</td>\n",
       "    </tr>\n",
       "    <tr>\n",
       "      <th>3</th>\n",
       "      <td>Permissions issue for user roles.</td>\n",
       "      <td>0</td>\n",
       "    </tr>\n",
       "    <tr>\n",
       "      <th>4</th>\n",
       "      <td>Integration with third-party API fails.</td>\n",
       "      <td>5</td>\n",
       "    </tr>\n",
       "  </tbody>\n",
       "</table>\n",
       "</div>"
      ],
      "text/plain": [
       "                        ticket_description expert_id\n",
       "0         Data not syncing with the cloud.         6\n",
       "1       System reports inaccurate metrics.         4\n",
       "2           Payment gateway timeout error.         5\n",
       "3        Permissions issue for user roles.         0\n",
       "4  Integration with third-party API fails.         5"
      ]
     },
     "execution_count": 7,
     "metadata": {},
     "output_type": "execute_result"
    }
   ],
   "source": [
    "for i,row in data_all.iterrows():\n",
    "    data_all.at[i, 'expert_id'] = int(data_all.at[i, 'expert_id'].split('_')[1])\n",
    "data_all.head()"
   ]
  },
  {
   "cell_type": "markdown",
   "id": "2a4f96e6-dea3-4ce6-a746-630bd30b8e53",
   "metadata": {},
   "source": [
    "##### Splitting the data into english and french parts"
   ]
  },
  {
   "cell_type": "code",
   "execution_count": 8,
   "id": "37c27896-6f24-4047-af98-94bc6f8e6125",
   "metadata": {},
   "outputs": [],
   "source": [
    "num_eng = 200\n",
    "\n",
    "data_eng = data_all.iloc[:num_eng]\n",
    "data_fr = data_all.iloc[num_eng:]\n",
    "\n",
    "data_eng.to_csv('data_eng.csv', sep=';', index=False)\n",
    "data_fr.to_csv('data_fr.csv', sep=';', index=False)"
   ]
  },
  {
   "cell_type": "markdown",
   "id": "4b91b233-721b-41b7-88a7-f14378c3399a",
   "metadata": {},
   "source": [
    "##### Removing the duplicates"
   ]
  },
  {
   "cell_type": "code",
   "execution_count": 9,
   "id": "df05ffb0-c623-458c-a90c-3d3e274c2739",
   "metadata": {},
   "outputs": [
    {
     "data": {
      "text/plain": [
       "'\\ndata_all = data_all.drop_duplicates()\\ndata_eng = data_eng.drop_duplicates()\\ndata_fr = data_fr.drop_duplicates()\\nprint(data_all.describe())\\nprint(data_eng.describe())\\nprint(data_fr.describe())\\n'"
      ]
     },
     "execution_count": 9,
     "metadata": {},
     "output_type": "execute_result"
    }
   ],
   "source": [
    "\"\"\"\n",
    "data_all = data_all.drop_duplicates()\n",
    "data_eng = data_eng.drop_duplicates()\n",
    "data_fr = data_fr.drop_duplicates()\n",
    "print(data_all.describe())\n",
    "print(data_eng.describe())\n",
    "print(data_fr.describe())\n",
    "\"\"\""
   ]
  },
  {
   "cell_type": "markdown",
   "id": "d82db8f5-f575-476a-bfd9-ac231cc62882",
   "metadata": {},
   "source": [
    "#### Analyzing the distribution"
   ]
  },
  {
   "cell_type": "code",
   "execution_count": 10,
   "id": "d9c8892e-fab7-4f56-984b-3296b7de39ab",
   "metadata": {},
   "outputs": [
    {
     "data": {
      "image/png": "[encoded data removed]",
      "text/plain": [
       "<Figure size 1000x600 with 1 Axes>"
      ]
     },
     "metadata": {},
     "output_type": "display_data"
    },
    {
     "data": {
      "image/png": "[encoded data removed]",
      "text/plain": [
       "<Figure size 1000x600 with 1 Axes>"
      ]
     },
     "metadata": {},
     "output_type": "display_data"
    },
    {
     "data": {
      "image/png": "[encoded data removed]",
      "text/plain": [
       "<Figure size 1000x600 with 1 Axes>"
      ]
     },
     "metadata": {},
     "output_type": "display_data"
    }
   ],
   "source": [
    "#!pip install matplotlib\n",
    "import matplotlib.pyplot as plt\n",
    "\n",
    "distributions = [\n",
    "    (data_all['expert_id'].value_counts(), 'All data'),\n",
    "    (data_eng['expert_id'].value_counts(), 'English data'),\n",
    "    (data_fr['expert_id'].value_counts(), 'French data')\n",
    "]\n",
    "\n",
    "for dist, title in distributions:\n",
    "    dist.plot(kind='bar', figsize=(10, 6))\n",
    "    plt.title(title)\n",
    "    plt.xlabel('expert id')\n",
    "    plt.ylabel('count')\n",
    "    plt.show()"
   ]
  },
  {
   "cell_type": "markdown",
   "id": "fe0ecca8-5424-4a73-9cc6-1de938ac43be",
   "metadata": {},
   "source": [
    "##### Class imbalance is more present in the french data, but all together, there is no significance class imbalance"
   ]
  },
  {
   "cell_type": "markdown",
   "id": "b0a5fad8-d784-40cd-97e2-b7620ec49bd7",
   "metadata": {},
   "source": [
    "# Base model: Bayes classification"
   ]
  },
  {
   "cell_type": "markdown",
   "id": "e98ba0df-b358-48d7-9af4-9971395b6f5a",
   "metadata": {},
   "source": [
    "#### Split the data into train and test"
   ]
  },
  {
   "cell_type": "code",
   "execution_count": 11,
   "id": "2c8b8189-6e15-4e22-b688-e0bf2660ffd4",
   "metadata": {},
   "outputs": [],
   "source": [
    "import random\n",
    "import numpy as np\n",
    "\n",
    "def assign_train_test_split(df, train_ratio=0.8, random_seed=None):\n",
    "    df1 = df.copy()\n",
    "    shuffled_df = df1.sample(frac=1, random_state=random_seed).reset_index(drop=True)\n",
    "    train_size = int(len(shuffled_df) * train_ratio)\n",
    "    shuffled_df['split'] = ['train'] * train_size + ['test'] * (len(shuffled_df) - train_size)\n",
    "    final_df = shuffled_df.sample(frac=1, random_state=random_seed).reset_index(drop=True)\n",
    "    return final_df\n",
    "    \n",
    "data_all = assign_train_test_split(data_all, random_seed=1)\n",
    "data_eng = assign_train_test_split(data_eng, random_seed=1)\n",
    "data_fr = assign_train_test_split(data_fr, random_seed=1)"
   ]
  },
  {
   "cell_type": "code",
   "execution_count": 12,
   "id": "c4fad8c3-4eaa-4539-b8ec-6eafc5cb0984",
   "metadata": {},
   "outputs": [
    {
     "name": "stdout",
     "output_type": "stream",
     "text": [
      "split\n",
      "train    0.8\n",
      "test     0.2\n",
      "Name: proportion, dtype: float64\n",
      "split\n",
      "train    0.8\n",
      "test     0.2\n",
      "Name: proportion, dtype: float64\n",
      "split\n",
      "train    0.8\n",
      "test     0.2\n",
      "Name: proportion, dtype: float64\n"
     ]
    }
   ],
   "source": [
    "print(data_all.value_counts('split', normalize=True))\n",
    "print(data_eng.value_counts('split', normalize=True))\n",
    "print(data_fr.value_counts('split', normalize=True))"
   ]
  },
  {
   "cell_type": "code",
   "execution_count": 13,
   "id": "ae29cdb9-e069-4d04-be9f-102427111f9d",
   "metadata": {},
   "outputs": [],
   "source": [
    "#!pip install scikit-learn\n",
    "from sklearn.feature_extraction.text import TfidfVectorizer\n",
    "from sklearn.naive_bayes import MultinomialNB\n",
    "from sklearn.linear_model import LogisticRegression\n",
    "from sklearn.metrics import f1_score"
   ]
  },
  {
   "cell_type": "code",
   "execution_count": 14,
   "id": "596cacad-6fe8-48b3-851b-3c13f477fe8e",
   "metadata": {},
   "outputs": [],
   "source": [
    "def get_tfidf_vectors_and_labels(df, split=\"train\", vectorizer=None):\n",
    "    if vectorizer is None:\n",
    "        vectorizer = TfidfVectorizer(max_features=100)\n",
    "    if split == \"train\":\n",
    "        vectorizer.fit(df[df.split == split]['ticket_description'])\n",
    "    vectors = vectorizer.transform(df[df.split == split]['ticket_description'])\n",
    "    labels = df[df.split == split]['expert_id']#.to_numpy(dtype=int)\n",
    "    return vectors.toarray(), labels.to_numpy(dtype=int), vectorizer"
   ]
  },
  {
   "cell_type": "markdown",
   "id": "d511da18-e8de-42ca-a474-da89d66a1167",
   "metadata": {},
   "source": [
    "def do_tfidf_prediction(df, max_features, model='nb'):\n",
    "    vectorizer = TfidfVectorizer(max_features=max_features)\n",
    "    vectors_train, labels_train, vectorizer = get_tfidf_vectors_and_labels(df, split=\"train\", vectorizer=vectorizer)\n",
    "    vectors_test, labels_test, _ = get_tfidf_vectors_and_labels(df, split=\"test\", vectorizer=vectorizer)\n",
    "    \n",
    "    if model == 'nb':\n",
    "        classifier = MultinomialNB().fit(vectors_train, labels_train)\n",
    "    else:\n",
    "        classifier = LogisticRegression().fit(vectors_train, labels_train)\n",
    "    \n",
    "    predicted_train = classifier.predict(vectors_train)\n",
    "    predicted_test = classifier.predict(vectors_test)\n",
    "    f1_train = f1_score(labels_train, predicted_train, average='macro')\n",
    "    f1_test = f1_score(labels_test, predicted_test, average='macro')\n",
    "    accuracy = (predicted_test == labels_test).sum() / len(predicted_test)\n",
    "    return f1_train, f1_test, accuracy"
   ]
  },
  {
   "cell_type": "code",
   "execution_count": 15,
   "id": "2091f584-02e5-48b2-9ed8-b68d6513d984",
   "metadata": {},
   "outputs": [],
   "source": [
    "from sklearn.metrics import f1_score, classification_report\n",
    "\n",
    "def do_tfidf_prediction(df, max_features, model='nb'):\n",
    "    vectorizer = TfidfVectorizer(max_features=max_features)\n",
    "    vectors_train, labels_train, vectorizer = get_tfidf_vectors_and_labels(df, split=\"train\", vectorizer=vectorizer)\n",
    "    vectors_test, labels_test, _ = get_tfidf_vectors_and_labels(df, split=\"test\", vectorizer=vectorizer)\n",
    "    \n",
    "    # Train the chosen classifier\n",
    "    if model == 'nb':\n",
    "        classifier = MultinomialNB().fit(vectors_train, labels_train)\n",
    "    else:\n",
    "        classifier = LogisticRegression().fit(vectors_train, labels_train)\n",
    "    \n",
    "    # Predictions\n",
    "    predicted_train = classifier.predict(vectors_train)\n",
    "    predicted_test = classifier.predict(vectors_test)\n",
    "    \n",
    "    # Overall F1 Scores\n",
    "    f1_train = f1_score(labels_train, predicted_train, average='macro')\n",
    "    f1_test = f1_score(labels_test, predicted_test, average='macro')\n",
    "    \n",
    "    # Per-Class F1 Scores with zero_division set to avoid warnings\n",
    "    class_f1_scores = classification_report(labels_test, predicted_test, output_dict=True, zero_division=0)\n",
    "    f1_per_class = [(class_name, metrics['f1-score']) for class_name, metrics in class_f1_scores.items() if isinstance(metrics, dict) and 'f1-score' in metrics]\n",
    "    \n",
    "    return f1_train, f1_test, f1_per_class\n"
   ]
  },
  {
   "cell_type": "markdown",
   "id": "ed38ff66-f0ac-4d98-ab5e-a5246d4434a8",
   "metadata": {},
   "source": [
    "from sklearn.metrics import f1_score, classification_report\n",
    "\n",
    "def do_tfidf_prediction(df, max_features, model='nb'):\n",
    "    vectorizer = TfidfVectorizer(max_features=max_features)\n",
    "    vectors_train, labels_train, vectorizer = get_tfidf_vectors_and_labels(df, split=\"train\", vectorizer=vectorizer)\n",
    "    vectors_test, labels_test, _ = get_tfidf_vectors_and_labels(df, split=\"test\", vectorizer=vectorizer)\n",
    "    \n",
    "    # Convert labels_test to numpy array and ensure it's clean\n",
    "    labels_test = labels_test.to_numpy().astype(str)\n",
    "    \n",
    "    # Train the chosen classifier\n",
    "    if model == 'nb':\n",
    "        classifier = MultinomialNB().fit(vectors_train, labels_train)\n",
    "    else:\n",
    "        classifier = LogisticRegression().fit(vectors_train, labels_train)\n",
    "    \n",
    "    # Predictions\n",
    "    predicted_test = classifier.predict(vectors_test).astype(str)\n",
    "\n",
    "    print(f\"LABEL TEST, type: {type(labels_test)}\")\n",
    "    print(labels_test)\n",
    "    print(f\"PREDICTED TEST, type: {type(predicted_test)}\")\n",
    "    print(predicted_test)\n",
    "\n",
    "    all_labels = sorted(np.unique(labels_test))\n",
    "    \n",
    "    # Debugging: Print unique values\n",
    "    print(\"Unique True Labels:\", np.unique(labels_test))\n",
    "    print(\"Unique Predicted Labels:\", np.unique(predicted_test))\n",
    "    \n",
    "    # Overall F1 Scores\n",
    "    f1_train = f1_score(labels_train, classifier.predict(vectors_train), average='macro')\n",
    "    f1_test = f1_score(labels_test, predicted_test, average='macro')\n",
    "    \n",
    "    # Classification Report\n",
    "    class_f1_scores = classification_report(labels_test, predicted_test, labels=all_labels, output_dict=True, zero_division=0)\n",
    "    f1_per_class = [(class_name, metrics['f1-score']) for class_name, metrics in class_f1_scores.items() if isinstance(metrics, dict) and 'f1-score' in metrics]\n",
    "\n",
    "    print(class_f1_scores)\n",
    "    \n",
    "    return f1_train, f1_test, f1_per_class\n"
   ]
  },
  {
   "cell_type": "code",
   "execution_count": 16,
   "id": "03f91b28-2a9f-4b61-a486-89a3121996d5",
   "metadata": {},
   "outputs": [
    {
     "data": {
      "text/plain": [
       "(np.float64(0.11139942712862191),\n",
       " np.float64(0.03509803921568627),\n",
       " [('0', 0.0),\n",
       "  ('1', 0.11764705882352941),\n",
       "  ('2', 0.1),\n",
       "  ('3', 0.0),\n",
       "  ('4', 0.0),\n",
       "  ('5', 0.0),\n",
       "  ('6', 0.0),\n",
       "  ('7', 0.0),\n",
       "  ('8', 0.13333333333333333),\n",
       "  ('9', 0.0),\n",
       "  ('macro avg', 0.03509803921568627),\n",
       "  ('weighted avg', 0.04156862745098039)])"
      ]
     },
     "execution_count": 16,
     "metadata": {},
     "output_type": "execute_result"
    }
   ],
   "source": [
    "f1_train, f1_test, accuracy = do_tfidf_prediction(data_all, max_features = 10)\n",
    "f1_train, f1_test, accuracy"
   ]
  },
  {
   "cell_type": "code",
   "execution_count": 17,
   "id": "0285a4d2-446d-4260-8a4d-b38da2bb1b38",
   "metadata": {},
   "outputs": [
    {
     "data": {
      "image/png": "[encoded data removed]",
      "text/plain": [
       "<Figure size 1000x600 with 1 Axes>"
      ]
     },
     "metadata": {},
     "output_type": "display_data"
    }
   ],
   "source": [
    "datasets = {\n",
    "    \"data_all\": data_all,\n",
    "    \"data_eng\": data_eng,\n",
    "    \"data_fr\": data_fr\n",
    "}\n",
    "\n",
    "colors = {\n",
    "    \"data_all\": (\"blue\", \"lightblue\"),\n",
    "    \"data_eng\": (\"green\", \"lightgreen\"),\n",
    "    \"data_fr\": (\"red\", \"lightcoral\")\n",
    "}\n",
    "\n",
    "max_features_list = [2, 4, 6, 8, 16, 32, 64, 128, 256]\n",
    "\n",
    "plt.figure(figsize=(10, 6))\n",
    "\n",
    "for dataset_name, dataset in datasets.items():\n",
    "    f1_scores_train = []\n",
    "    f1_scores_test = []\n",
    "    for max_features in max_features_list:\n",
    "        f1_train, f1_test, acc = do_tfidf_prediction(dataset, max_features=max_features)\n",
    "        f1_scores_train.append(f1_train)\n",
    "        f1_scores_test.append(f1_test)\n",
    "    \n",
    "    plt.plot(\n",
    "        np.arange(len(max_features_list)),\n",
    "        f1_scores_train,\n",
    "        label=f\"F1 train - {dataset_name}\",\n",
    "        color=colors[dataset_name][0]\n",
    "    )\n",
    "    plt.plot(\n",
    "        np.arange(len(max_features_list)),\n",
    "        f1_scores_test,\n",
    "        label=f\"F1 test - {dataset_name}\",\n",
    "        color=colors[dataset_name][1],\n",
    "        linestyle=\"dashed\"\n",
    "    )\n",
    "\n",
    "plt.xticks(np.arange(len(max_features_list)), max_features_list)\n",
    "plt.xlabel(\"Number of max features\")\n",
    "plt.ylabel(\"F1 score\")\n",
    "plt.title(\"Basyesian classification: F1 scores over different number of max meatures\")\n",
    "plt.legend()\n",
    "plt.grid(True)\n",
    "\n",
    "plt.show()\n"
   ]
  },
  {
   "cell_type": "code",
   "execution_count": 18,
   "id": "5ed42fef-9ff1-4557-ae7e-22521e110836",
   "metadata": {},
   "outputs": [
    {
     "data": {
      "image/png": "[encoded data removed]",
      "text/plain": [
       "<Figure size 1000x600 with 1 Axes>"
      ]
     },
     "metadata": {},
     "output_type": "display_data"
    }
   ],
   "source": [
    "datasets = {\n",
    "    \"data_all\": data_all,\n",
    "    \"data_eng\": data_eng,\n",
    "    \"data_fr\": data_fr\n",
    "}\n",
    "\n",
    "colors = {\n",
    "    \"data_all\": (\"blue\", \"lightblue\"),\n",
    "    \"data_eng\": (\"green\", \"lightgreen\"),\n",
    "    \"data_fr\": (\"red\", \"lightcoral\")\n",
    "}\n",
    "\n",
    "max_features_list = [2, 4, 6, 8, 16, 32, 64, 128, 256]\n",
    "\n",
    "plt.figure(figsize=(10, 6))\n",
    "\n",
    "for dataset_name, dataset in datasets.items():\n",
    "    f1_scores_train = []\n",
    "    f1_scores_test = []\n",
    "    for max_features in max_features_list:\n",
    "        f1_train, f1_test, acc = do_tfidf_prediction(dataset, max_features=max_features, model='logistic')\n",
    "        f1_scores_train.append(f1_train)\n",
    "        f1_scores_test.append(f1_test)\n",
    "    \n",
    "    plt.plot(\n",
    "        np.arange(len(max_features_list)),\n",
    "        f1_scores_train,\n",
    "        label=f\"F1 train - {dataset_name}\",\n",
    "        color=colors[dataset_name][0]\n",
    "    )\n",
    "    plt.plot(\n",
    "        np.arange(len(max_features_list)),\n",
    "        f1_scores_test,\n",
    "        label=f\"F1 test - {dataset_name}\",\n",
    "        color=colors[dataset_name][1],\n",
    "        linestyle=\"dashed\"\n",
    "    )\n",
    "\n",
    "plt.xticks(np.arange(len(max_features_list)), max_features_list)\n",
    "plt.xlabel(\"Number of max features\")\n",
    "plt.ylabel(\"F1 score\")\n",
    "plt.title(\"Logistic regression: F1 scores over different number of max meatures using\")\n",
    "plt.legend()\n",
    "plt.grid(True)\n",
    "\n",
    "plt.show()\n"
   ]
  },
  {
   "cell_type": "code",
   "execution_count": 19,
   "id": "c294fa99-76b9-4469-84c7-9ac92dbf5997",
   "metadata": {},
   "outputs": [
    {
     "data": {
      "text/html": [
       "<div>\n",
       "<style scoped>\n",
       "    .dataframe tbody tr th:only-of-type {\n",
       "        vertical-align: middle;\n",
       "    }\n",
       "\n",
       "    .dataframe tbody tr th {\n",
       "        vertical-align: top;\n",
       "    }\n",
       "\n",
       "    .dataframe thead th {\n",
       "        text-align: right;\n",
       "    }\n",
       "</style>\n",
       "<table border=\"1\" class=\"dataframe\">\n",
       "  <thead>\n",
       "    <tr style=\"text-align: right;\">\n",
       "      <th></th>\n",
       "      <th>ticket_description</th>\n",
       "      <th>expert_id</th>\n",
       "      <th>split</th>\n",
       "    </tr>\n",
       "  </thead>\n",
       "  <tbody>\n",
       "    <tr>\n",
       "      <th>count</th>\n",
       "      <td>400</td>\n",
       "      <td>400</td>\n",
       "      <td>400</td>\n",
       "    </tr>\n",
       "    <tr>\n",
       "      <th>unique</th>\n",
       "      <td>40</td>\n",
       "      <td>10</td>\n",
       "      <td>2</td>\n",
       "    </tr>\n",
       "    <tr>\n",
       "      <th>top</th>\n",
       "      <td>Les permissions des roles d'utilisateur ne fon...</td>\n",
       "      <td>8</td>\n",
       "      <td>train</td>\n",
       "    </tr>\n",
       "    <tr>\n",
       "      <th>freq</th>\n",
       "      <td>16</td>\n",
       "      <td>53</td>\n",
       "      <td>320</td>\n",
       "    </tr>\n",
       "  </tbody>\n",
       "</table>\n",
       "</div>"
      ],
      "text/plain": [
       "                                       ticket_description  expert_id  split\n",
       "count                                                 400        400    400\n",
       "unique                                                 40         10      2\n",
       "top     Les permissions des roles d'utilisateur ne fon...          8  train\n",
       "freq                                                   16         53    320"
      ]
     },
     "execution_count": 19,
     "metadata": {},
     "output_type": "execute_result"
    }
   ],
   "source": [
    "data_all.describe()"
   ]
  },
  {
   "cell_type": "code",
   "execution_count": 20,
   "id": "7cfc8ecf-c02e-49c5-bf9e-65e6a39f4fa5",
   "metadata": {},
   "outputs": [
    {
     "data": {
      "text/plain": [
       "(np.float64(0.13763728317208793),\n",
       " np.float64(0.041496598639455776),\n",
       " [('0', 0.0),\n",
       "  ('1', 0.0),\n",
       "  ('2', 0.0),\n",
       "  ('3', 0.16666666666666666),\n",
       "  ('4', 0.0),\n",
       "  ('5', 0.16666666666666666),\n",
       "  ('6', 0.0),\n",
       "  ('7', 0.0),\n",
       "  ('8', 0.08163265306122448),\n",
       "  ('9', 0.0),\n",
       "  ('macro avg', 0.041496598639455776),\n",
       "  ('weighted avg', 0.03107993197278911)])"
      ]
     },
     "execution_count": 20,
     "metadata": {},
     "output_type": "execute_result"
    }
   ],
   "source": [
    "f1_train, f1_test, f1_per_class = do_tfidf_prediction(data_all, max_features = 16)\n",
    "f1_train, f1_test, f1_per_class"
   ]
  },
  {
   "cell_type": "markdown",
   "id": "4c4c3c8b-c924-49e6-86f9-bc7f0c3b3d64",
   "metadata": {},
   "source": [
    "##### Conclusion: The dataset is too small to produce high quality results using traditional machine learning methods such as Naive Bayes and Logistic Regression with TF-IDF. The limited data size leads to overfitting on the training set, and poor generalization on the test set. The results are generally poor and similar, with French dataset performing the worst, with slightly better and similar results for combined and English only dataset. "
   ]
  },
  {
   "cell_type": "markdown",
   "id": "e1dd3644-8d86-4b49-a696-cb3361ba93b0",
   "metadata": {},
   "source": [
    "##### Even though logistic regression should generally perform better than Naive Bayes, here it is not the case. Possibly because they share the same TF-IDF features, which are sparse because the sentances are short and contain a small number of all features. This can be seen on the plot, as test perfomance lowers with the increased numbers of max features. The logistic regression would possibly achieve better performance if we had more input data."
   ]
  },
  {
   "cell_type": "markdown",
   "id": "6075272a-3498-4d9e-a4ea-02923246fa85",
   "metadata": {},
   "source": [
    "# First model: BERT"
   ]
  },
  {
   "cell_type": "code",
   "execution_count": 21,
   "id": "0c770bac-0f8f-4c08-b1a7-eab33317dbf9",
   "metadata": {},
   "outputs": [],
   "source": [
    "\n",
    "x_train_all = data_all[data_all.split=='train']['ticket_description'].values\n",
    "y_train_all = data_all[data_all.split=='train']['expert_id'].values\n",
    "x_test_all = data_all[data_all.split=='test']['ticket_description'].values\n",
    "y_test_all = data_all[data_all.split=='test']['expert_id'].values\n",
    "\n",
    "\n",
    "x_train_eng = data_eng[data_eng.split=='train']['ticket_description'].values\n",
    "y_train_eng = data_eng[data_eng.split=='train']['expert_id'].values\n",
    "x_test_eng = data_eng[data_eng.split=='test']['ticket_description'].values\n",
    "y_test_eng = data_eng[data_eng.split=='test']['expert_id'].values\n"
   ]
  },
  {
   "cell_type": "code",
   "execution_count": 22,
   "id": "7adac17e-6139-4e82-9d8b-1c05cbc42891",
   "metadata": {},
   "outputs": [
    {
     "name": "stderr",
     "output_type": "stream",
     "text": [
      "C:\\Users\\David\\AppData\\Local\\Programs\\Python\\Python311\\Lib\\site-packages\\tqdm\\auto.py:21: TqdmWarning: IProgress not found. Please update jupyter and ipywidgets. See https://ipywidgets.readthedocs.io/en/stable/user_install.html\n",
      "  from .autonotebook import tqdm as notebook_tqdm\n"
     ]
    },
    {
     "name": "stdout",
     "output_type": "stream",
     "text": [
      "{'input_ids': [101, 16542, 2051, 15975, 1999, 4311, 1012, 102], 'attention_mask': [1, 1, 1, 1, 1, 1, 1, 1]}\n",
      "\n",
      "\n",
      "['[CLS]', 'incorrect', 'time', '##zone', 'in', 'reports', '.', '[SEP]'] \n",
      "\n",
      "\n",
      "\n",
      "[CLS] incorrect timezone in reports. [SEP] \n",
      "\n",
      "\n",
      "\n",
      "---------------- \n",
      "\n"
     ]
    },
    {
     "data": {
      "text/plain": [
       "72"
      ]
     },
     "execution_count": 22,
     "metadata": {},
     "output_type": "execute_result"
    }
   ],
   "source": [
    "#!pip install transformers\n",
    "from transformers import DistilBertTokenizer\n",
    "\n",
    "MAX_LEN = 0\n",
    "\n",
    "tokenizer = DistilBertTokenizer.from_pretrained('distilbert-base-uncased', padding=True, truncation=True)\n",
    "\n",
    "all_data = np.concatenate((x_train_all, x_test_all))\n",
    "\n",
    "# let's check out how the tokenizer works\n",
    "for i in range(len(all_data)):\n",
    "    if len(tokenizer(all_data[i])['input_ids']) > MAX_LEN:\n",
    "        MAX_LEN = len(tokenizer(all_data[i])['input_ids'])\n",
    "    if i == 0:\n",
    "        # tokenize sentences\n",
    "        tokenizer_out = tokenizer(all_data[i])\n",
    "        # convert numerical tokens to alphabetical tokens\n",
    "        encoded_tok = tokenizer.convert_ids_to_tokens(tokenizer_out.input_ids)\n",
    "        # decode tokens back to string\n",
    "        decoded = tokenizer.decode(tokenizer_out.input_ids)\n",
    "        print(tokenizer_out)\n",
    "        print('\\n')\n",
    "        print(encoded_tok, '\\n')\n",
    "        print('\\n')\n",
    "        print(decoded, '\\n')\n",
    "        print('\\n')\n",
    "        print('---------------- \\n')\n",
    "\n",
    "MAX_LEN = MAX_LEN * 2\n",
    "MAX_LEN"
   ]
  },
  {
   "cell_type": "code",
   "execution_count": 23,
   "id": "d00080be-af21-4781-9866-d9e5fb368593",
   "metadata": {},
   "outputs": [],
   "source": [
    "#!C:\\Users\\David\\AppData\\Local\\Programs\\Python\\Python311\\python.exe -m pip install ipykernel\n",
    "#!C:\\Users\\David\\AppData\\Local\\Programs\\Python\\Python311\\python.exe -m ipykernel install --user --name python311 --display-name \"Python 3.11 (torch)\""
   ]
  },
  {
   "cell_type": "code",
   "execution_count": 24,
   "id": "eb1d6627-4041-4536-a527-96cce4db0a05",
   "metadata": {},
   "outputs": [
    {
     "name": "stdout",
     "output_type": "stream",
     "text": [
      "Name: torch\n",
      "Version: 2.5.1\n",
      "Summary: Tensors and Dynamic neural networks in Python with strong GPU acceleration\n",
      "Home-page: https://pytorch.org/\n",
      "Author: PyTorch Team\n",
      "Author-email: packages@pytorch.org\n",
      "License: BSD-3-Clause\n",
      "Location: C:\\Users\\David\\AppData\\Local\\Programs\\Python\\Python311\\Lib\\site-packages\n",
      "Requires: filelock, fsspec, jinja2, networkx, sympy, typing-extensions\n",
      "Required-by: accelerate, torchaudio, torchvision\n",
      "Python 3.11.0C:\\Users\\David\\AppData\\Local\\Programs\\Python\\Python311\\python.exe\n",
      "\n"
     ]
    }
   ],
   "source": [
    "!pip show torch\n",
    "!python --version\n",
    "import sys\n",
    "print(sys.executable)"
   ]
  },
  {
   "cell_type": "markdown",
   "id": "0d88dd6b-d604-4ec6-9c27-77ad46484415",
   "metadata": {},
   "source": [
    "##### Creating the custom dataset"
   ]
  },
  {
   "cell_type": "code",
   "execution_count": 25,
   "id": "a25d8b9e-0f2a-4d14-836d-48a92f3a6766",
   "metadata": {},
   "outputs": [],
   "source": [
    "#!pip3 install torch torchvision torchaudio\n",
    "import torch\n",
    "from torch.utils.data import Dataset\n",
    "\n",
    "class MyDataset(Dataset):\n",
    "    def __init__(self, sentences, labels, tokenizer, max_len):\n",
    "        self.sentences = sentences\n",
    "        self.labels = labels\n",
    "        self.tokenizer = tokenizer\n",
    "        self.max_len = max_len\n",
    "        \n",
    "    def __len__(self):\n",
    "        return len(self.sentences)\n",
    "    \n",
    "    def __getitem__(self, item):\n",
    "        # select the sentence and its class\n",
    "        sentence = str(self.sentences[item])\n",
    "        label = self.labels[item]\n",
    "        # tokenize the sencence\n",
    "        tokenizer_out = self.tokenizer(\n",
    "            sentence,\n",
    "            add_special_tokens=True,\n",
    "            max_length=self.max_len,\n",
    "            return_token_type_ids=False,\n",
    "            padding='max_length',\n",
    "            return_attention_mask=True,\n",
    "            return_tensors='pt',\n",
    "            truncation=True\n",
    "        )\n",
    "        # return a dictionary with the output of the tokenizer and the label\n",
    "        return  {\n",
    "            'input_ids': tokenizer_out['input_ids'].flatten(),\n",
    "            'attention_mask': tokenizer_out['attention_mask'].flatten(),\n",
    "            'label': torch.tensor(label, dtype=torch.long)\n",
    "        }\n",
    "\n",
    "train_dataset_all = MyDataset(x_train_all, y_train_all, tokenizer, MAX_LEN)\n",
    "test_dataset_all = MyDataset(x_test_all, y_test_all, tokenizer, MAX_LEN)\n",
    "\n",
    "train_dataset_eng = MyDataset(x_train_eng, y_train_eng, tokenizer, MAX_LEN)\n",
    "test_dataset_eng = MyDataset(x_test_eng, y_test_eng, tokenizer, MAX_LEN)"
   ]
  },
  {
   "cell_type": "code",
   "execution_count": 26,
   "id": "d545899a-0db6-4714-8d2d-93571e892127",
   "metadata": {},
   "outputs": [
    {
     "data": {
      "text/plain": [
       "{'input_ids': tensor([  101, 16542,  2051, 15975,  1999,  4311,  1012,   102,     0,     0,\n",
       "             0,     0,     0,     0,     0,     0,     0,     0,     0,     0,\n",
       "             0,     0,     0,     0,     0,     0,     0,     0,     0,     0,\n",
       "             0,     0,     0,     0,     0,     0,     0,     0,     0,     0,\n",
       "             0,     0,     0,     0,     0,     0,     0,     0,     0,     0,\n",
       "             0,     0,     0,     0,     0,     0,     0,     0,     0,     0,\n",
       "             0,     0,     0,     0,     0,     0,     0,     0,     0,     0,\n",
       "             0,     0]),\n",
       " 'attention_mask': tensor([1, 1, 1, 1, 1, 1, 1, 1, 0, 0, 0, 0, 0, 0, 0, 0, 0, 0, 0, 0, 0, 0, 0, 0,\n",
       "         0, 0, 0, 0, 0, 0, 0, 0, 0, 0, 0, 0, 0, 0, 0, 0, 0, 0, 0, 0, 0, 0, 0, 0,\n",
       "         0, 0, 0, 0, 0, 0, 0, 0, 0, 0, 0, 0, 0, 0, 0, 0, 0, 0, 0, 0, 0, 0, 0, 0]),\n",
       " 'label': tensor(8)}"
      ]
     },
     "execution_count": 26,
     "metadata": {},
     "output_type": "execute_result"
    }
   ],
   "source": [
    "train_dataset_all[0]"
   ]
  },
  {
   "cell_type": "markdown",
   "id": "dc51e37e-f132-4c49-9a8d-02dd4982e969",
   "metadata": {},
   "source": [
    "##### Importing the model"
   ]
  },
  {
   "cell_type": "code",
   "execution_count": 27,
   "id": "b8d9b5f4-de64-442d-99a4-4ee19751acdf",
   "metadata": {},
   "outputs": [
    {
     "name": "stdout",
     "output_type": "stream",
     "text": [
      "DistilBertModel(\n",
      "  (embeddings): Embeddings(\n",
      "    (word_embeddings): Embedding(30522, 768, padding_idx=0)\n",
      "    (position_embeddings): Embedding(512, 768)\n",
      "    (LayerNorm): LayerNorm((768,), eps=1e-12, elementwise_affine=True)\n",
      "    (dropout): Dropout(p=0.1, inplace=False)\n",
      "  )\n",
      "  (transformer): Transformer(\n",
      "    (layer): ModuleList(\n",
      "      (0-5): 6 x TransformerBlock(\n",
      "        (attention): DistilBertSdpaAttention(\n",
      "          (dropout): Dropout(p=0.1, inplace=False)\n",
      "          (q_lin): Linear(in_features=768, out_features=768, bias=True)\n",
      "          (k_lin): Linear(in_features=768, out_features=768, bias=True)\n",
      "          (v_lin): Linear(in_features=768, out_features=768, bias=True)\n",
      "          (out_lin): Linear(in_features=768, out_features=768, bias=True)\n",
      "        )\n",
      "        (sa_layer_norm): LayerNorm((768,), eps=1e-12, elementwise_affine=True)\n",
      "        (ffn): FFN(\n",
      "          (dropout): Dropout(p=0.1, inplace=False)\n",
      "          (lin1): Linear(in_features=768, out_features=3072, bias=True)\n",
      "          (lin2): Linear(in_features=3072, out_features=768, bias=True)\n",
      "          (activation): GELUActivation()\n",
      "        )\n",
      "        (output_layer_norm): LayerNorm((768,), eps=1e-12, elementwise_affine=True)\n",
      "      )\n",
      "    )\n",
      "  )\n",
      ")\n",
      "DistilBertModel(\n",
      "  (embeddings): Embeddings(\n",
      "    (word_embeddings): Embedding(119547, 768, padding_idx=0)\n",
      "    (position_embeddings): Embedding(512, 768)\n",
      "    (LayerNorm): LayerNorm((768,), eps=1e-12, elementwise_affine=True)\n",
      "    (dropout): Dropout(p=0.1, inplace=False)\n",
      "  )\n",
      "  (transformer): Transformer(\n",
      "    (layer): ModuleList(\n",
      "      (0-5): 6 x TransformerBlock(\n",
      "        (attention): DistilBertSdpaAttention(\n",
      "          (dropout): Dropout(p=0.1, inplace=False)\n",
      "          (q_lin): Linear(in_features=768, out_features=768, bias=True)\n",
      "          (k_lin): Linear(in_features=768, out_features=768, bias=True)\n",
      "          (v_lin): Linear(in_features=768, out_features=768, bias=True)\n",
      "          (out_lin): Linear(in_features=768, out_features=768, bias=True)\n",
      "        )\n",
      "        (sa_layer_norm): LayerNorm((768,), eps=1e-12, elementwise_affine=True)\n",
      "        (ffn): FFN(\n",
      "          (dropout): Dropout(p=0.1, inplace=False)\n",
      "          (lin1): Linear(in_features=768, out_features=3072, bias=True)\n",
      "          (lin2): Linear(in_features=3072, out_features=768, bias=True)\n",
      "          (activation): GELUActivation()\n",
      "        )\n",
      "        (output_layer_norm): LayerNorm((768,), eps=1e-12, elementwise_affine=True)\n",
      "      )\n",
      "    )\n",
      "  )\n",
      ")\n"
     ]
    }
   ],
   "source": [
    "from transformers import DistilBertModel\n",
    "\n",
    "PRE_TRAINED_MODEL_NAME_ENG = 'distilbert-base-uncased'\n",
    "PRE_TRAINED_MODEL_NAME_ALL = 'distilbert-base-multilingual-cased'\n",
    "\n",
    "\n",
    "distil_bert_eng = DistilBertModel.from_pretrained(PRE_TRAINED_MODEL_NAME_ENG)\n",
    "distil_bert_all = DistilBertModel.from_pretrained(PRE_TRAINED_MODEL_NAME_ALL)\n",
    "print(distil_bert_eng)\n",
    "print(distil_bert_all)"
   ]
  },
  {
   "cell_type": "markdown",
   "id": "55936b78-76d8-456c-b8a4-d07b402b0b56",
   "metadata": {},
   "source": [
    "##### Inspect the output shape of the model"
   ]
  },
  {
   "cell_type": "code",
   "execution_count": 28,
   "id": "f6ec4c21-8b73-47b2-a651-216a4da051a4",
   "metadata": {},
   "outputs": [
    {
     "data": {
      "text/plain": [
       "torch.Size([1, 72, 768])"
      ]
     },
     "execution_count": 28,
     "metadata": {},
     "output_type": "execute_result"
    }
   ],
   "source": [
    "first_sample = train_dataset_all[0]\n",
    "hidden_state = distil_bert_eng(first_sample['input_ids'].unsqueeze(0), attention_mask=first_sample['attention_mask'].unsqueeze(0))\n",
    "hidden_state[0].shape"
   ]
  },
  {
   "cell_type": "markdown",
   "id": "731b7853-ac1e-4675-95a5-44ccb6053ba7",
   "metadata": {},
   "source": [
    "##### Building the classifier"
   ]
  },
  {
   "cell_type": "markdown",
   "id": "fe842c63-3035-46f9-8020-9f3c0cc22587",
   "metadata": {},
   "source": [
    "from transformers import DistilBertPreTrainedModel\n",
    "\n",
    "FREEZE = True\n",
    "\n",
    "class DistilBertClassifier(DistilBertPreTrainedModel):\n",
    "    def __init__(self, config, num_labels, freeze=False):\n",
    "        super.__init__(config)\n",
    "        self.num_labels = num_labels\n",
    "        self.encoder = DistilBertModel.from_pretrained(MODEL_NAME)\n",
    "        if freeze:\n",
    "            for param in self.encoder.parameters():\n",
    "                param.requires_grad = False\n",
    "        self.classifier = torch.nn.Linear(\n",
    "            in_features = config.dim,\n",
    "            out_features = self.num_labels,\n",
    "            bias=True\n",
    "        )\n",
    "        self.dropout = torch.nn.Dropout(p=-0.1)\n",
    "\n",
    "    def forward(\n",
    "        self,\n",
    "        input_ids=None,\n",
    "        attention_mask=None,\n",
    "        head_mask=None,\n",
    "        inputs_embeds=None,\n",
    "        labels=None,\n",
    "        output_attentions=None,\n",
    "        output_hidden_states=None,\n",
    "    ):\n",
    "        encoder_output = self.encoder(\n",
    "            input_ids = input_ids,\n",
    "            attention_mask = attention_mask,\n",
    "            head_mask=head_mask,\n",
    "            inputs_embeds=inputs_embeds,\n",
    "            labels=labels,\n",
    "            output_attentions=output_attentions,\n",
    "            output_hidden_states=output_hidden_states,\n",
    "        )\n",
    "\n",
    "        hidden_state = encoder_output[0]\n",
    "        pooled_output = hidden_state[:, 0]\n",
    "        pooled_output = self.dropout(pooled_output)\n",
    "        logits = self.classifier(pooled_output)\n",
    "\n",
    "        outputs = (logits,) + encoder_output[1:]\n",
    "\n",
    "        if labels is not None:\n",
    "            loss_fct = CrossEntropyLoss()\n",
    "            loss = loss_fct(logits, labels)\n",
    "            outputs = (loss,) + outputs\n",
    "            \n",
    "        outputs = (loss,) + outputs\n",
    "    \n",
    "    return outputs\n",
    "    \n",
    "classes = data_all.expert_id.unique()\n",
    "\n",
    "model = DistilBertClassifier(\n",
    "    config=distil_bert.configm,\n",
    "    num_labels = len(classes),\n",
    "    freeze = FREEZE\n",
    ")"
   ]
  },
  {
   "cell_type": "code",
   "execution_count": 29,
   "id": "10d6f5d0-53ad-4163-8943-2b10f5da8be4",
   "metadata": {},
   "outputs": [
    {
     "data": {
      "text/plain": [
       "\"\\n# print info about model's parameters\\ntotal_params = sum(p.numel() for p in model.parameters())\\nmodel_parameters = filter(lambda p: p.requires_grad, model.parameters())\\ntrainable_params = sum([np.prod(p.size()) for p in model_parameters])\\nprint('model total params: ', total_params)\\nprint('model trainable params: ', trainable_params)\\nprint('\\n', model)\\n\""
      ]
     },
     "execution_count": 29,
     "metadata": {},
     "output_type": "execute_result"
    }
   ],
   "source": [
    "from transformers import DistilBertPreTrainedModel, DistilBertConfig\n",
    "\n",
    "\n",
    "#PRE_TRAINED_MODEL_NAME = 'distilbert-base-uncased'\n",
    "FREEZE_PRETRAINED_MODEL = True\n",
    "\n",
    "class DistilBertForSentimentClassification(DistilBertPreTrainedModel):\n",
    "    def __init__(self, pretrained_model_name, config, num_labels, freeze_encoder=False):\n",
    "        # instantiate the parent class DistilBertPreTrainedModel\n",
    "        super().__init__(config)\n",
    "        # instantiate num. of classes\n",
    "        self.num_labels = num_labels\n",
    "        # instantiate and load a pretrained DistilBERT model as encoder\n",
    "        self.encoder = DistilBertModel.from_pretrained(pretrained_model_name)\n",
    "        # [Q1] freeze the encoder parameters if required\n",
    "        if freeze_encoder:\n",
    "          for param in self.encoder.parameters():\n",
    "              param.requires_grad = False\n",
    "        # the classifier: a feed-forward layer attached to the encoder's head\n",
    "        self.classifier = torch.nn.Linear(\n",
    "            in_features=config.dim, out_features=self.num_labels, bias=True)\n",
    "        # instantiate a dropout function for the classifier's input\n",
    "        self.dropout = torch.nn.Dropout(p=0.1)\n",
    "\n",
    "\n",
    "    def forward(\n",
    "        self,\n",
    "        input_ids=None,\n",
    "        attention_mask=None,\n",
    "        head_mask=None,\n",
    "        inputs_embeds=None,\n",
    "        labels=None,\n",
    "        output_attentions=None,\n",
    "        output_hidden_states=None,\n",
    "    ):\n",
    "        # encode a batch of sequences with DistilBERT\n",
    "        encoder_output = self.encoder(\n",
    "            input_ids=input_ids,\n",
    "            attention_mask=attention_mask,\n",
    "            head_mask=head_mask,\n",
    "            inputs_embeds=inputs_embeds,\n",
    "            output_attentions=output_attentions,\n",
    "            output_hidden_states=output_hidden_states,\n",
    "        )\n",
    "        # extract the hidden representations from the encoder output\n",
    "        hidden_state = encoder_output[0]  # (bs, seq_len, dim)\n",
    "        # only select the encoding corresponding to the first token\n",
    "        # of each sequence in the batch [Q2]\n",
    "        pooled_output = hidden_state[:, 0]  # (bs, dim)\n",
    "        # apply dropout\n",
    "        pooled_output = self.dropout(pooled_output)  # (bs, dim)\n",
    "        # feed into the classifier\n",
    "        logits = self.classifier(pooled_output)  # (bs, dim)\n",
    "\n",
    "        outputs = (logits,) + encoder_output[1:]\n",
    "\n",
    "        if labels is not None:\n",
    "            loss_fct = torch.nn.CrossEntropyLoss()\n",
    "            loss = loss_fct(logits, labels)\n",
    "            outputs = (loss,) + outputs\n",
    "\n",
    "        return outputs  # (loss), logits, (hidden_states), (attentions)\n",
    "\n",
    "classes = data_all.expert_id.unique().tolist()\n",
    "\n",
    "# instantiate model\n",
    "model_eng_only = DistilBertForSentimentClassification(\n",
    "    pretrained_model_name=PRE_TRAINED_MODEL_NAME_ENG,\n",
    "    config=distil_bert_eng.config,\n",
    "    num_labels=len(classes),\n",
    "    freeze_encoder = FREEZE_PRETRAINED_MODEL\n",
    "    )\n",
    "\n",
    "model_eng_all = DistilBertForSentimentClassification(\n",
    "    pretrained_model_name=PRE_TRAINED_MODEL_NAME_ENG,\n",
    "    config=distil_bert_eng.config,\n",
    "    num_labels=len(classes),\n",
    "    freeze_encoder = FREEZE_PRETRAINED_MODEL\n",
    ")\n",
    "\n",
    "model_all = DistilBertForSentimentClassification(\n",
    "    pretrained_model_name=PRE_TRAINED_MODEL_NAME_ALL,\n",
    "    config=distil_bert_all.config,\n",
    "    num_labels=len(classes),\n",
    "    freeze_encoder = FREEZE_PRETRAINED_MODEL\n",
    ")\n",
    "\n",
    "\"\"\"\n",
    "# print info about model's parameters\n",
    "total_params = sum(p.numel() for p in model.parameters())\n",
    "model_parameters = filter(lambda p: p.requires_grad, model.parameters())\n",
    "trainable_params = sum([np.prod(p.size()) for p in model_parameters])\n",
    "print('model total params: ', total_params)\n",
    "print('model trainable params: ', trainable_params)\n",
    "print('\\n', model)\n",
    "\"\"\""
   ]
  },
  {
   "cell_type": "markdown",
   "id": "de02fc28-83e3-4797-88ff-8277316a6dab",
   "metadata": {},
   "source": [
    "##### Train the model"
   ]
  },
  {
   "cell_type": "code",
   "execution_count": 30,
   "id": "7df044da-ec9a-42c5-b083-e52218496e09",
   "metadata": {},
   "outputs": [
    {
     "name": "stdout",
     "output_type": "stream",
     "text": [
      "CPU will be used.\n"
     ]
    }
   ],
   "source": [
    "if torch.cuda.is_available():\n",
    "  print(\"GPU will be used.\")\n",
    "  device = torch.cuda.current_device()\n",
    "else:\n",
    "  print(\"CPU will be used.\")"
   ]
  },
  {
   "cell_type": "code",
   "execution_count": 31,
   "id": "e47ad569-6aed-4caa-9bd2-ff662e161fca",
   "metadata": {},
   "outputs": [],
   "source": [
    "from transformers import Trainer, TrainingArguments\n",
    "from sklearn.metrics import precision_recall_fscore_support, accuracy_score\n",
    "\n",
    "def compute_metrics(pred):\n",
    "    labels = pred.label_ids\n",
    "    preds = pred.predictions.argmax(-1)\n",
    "    precision, recall, f1, _ = precision_recall_fscore_support(labels, preds, zero_division=0)\n",
    "    acc = accuracy_score(labels, preds)\n",
    "    return {\n",
    "        'accuracy': acc,\n",
    "        'f1': f1,\n",
    "        'precision': precision,\n",
    "        'recall': recall\n",
    "    }\n",
    "\n",
    "training_args = TrainingArguments(\n",
    "    output_dir='./results',\n",
    "    logging_dir='./logs',\n",
    "    logging_first_step=True,\n",
    "    logging_steps=50,\n",
    "    num_train_epochs=16,\n",
    "    per_device_train_batch_size=8,\n",
    "    learning_rate=5e-6,\n",
    "    weight_decay=0.01\n",
    ")\n",
    "\n",
    "trainer_eng_only = Trainer(\n",
    "    model=model_eng_only,\n",
    "    args=training_args,\n",
    "    train_dataset=train_dataset_eng,\n",
    "    compute_metrics=compute_metrics\n",
    ")\n",
    "\n",
    "trainer_eng_all = Trainer(\n",
    "    model=model_eng_all,\n",
    "    args=training_args,\n",
    "    train_dataset=train_dataset_all,\n",
    "    compute_metrics=compute_metrics\n",
    ")\n",
    "\n",
    "trainer_all = Trainer(\n",
    "    model=model_all,\n",
    "    args=training_args,\n",
    "    train_dataset=train_dataset_all,\n",
    "    compute_metrics=compute_metrics\n",
    ")"
   ]
  },
  {
   "cell_type": "code",
   "execution_count": 32,
   "id": "e7c69a6b-e8a3-46a4-94b5-9d24b54232ec",
   "metadata": {},
   "outputs": [
    {
     "data": {
      "text/html": [
       "\n",
       "    <div>\n",
       "      \n",
       "      <progress value='320' max='320' style='width:300px; height:20px; vertical-align: middle;'></progress>\n",
       "      [320/320 00:47, Epoch 16/16]\n",
       "    </div>\n",
       "    <table border=\"1\" class=\"dataframe\">\n",
       "  <thead>\n",
       " <tr style=\"text-align: left;\">\n",
       "      <th>Step</th>\n",
       "      <th>Training Loss</th>\n",
       "    </tr>\n",
       "  </thead>\n",
       "  <tbody>\n",
       "    <tr>\n",
       "      <td>1</td>\n",
       "      <td>2.262900</td>\n",
       "    </tr>\n",
       "    <tr>\n",
       "      <td>50</td>\n",
       "      <td>2.334200</td>\n",
       "    </tr>\n",
       "    <tr>\n",
       "      <td>100</td>\n",
       "      <td>2.341700</td>\n",
       "    </tr>\n",
       "    <tr>\n",
       "      <td>150</td>\n",
       "      <td>2.329000</td>\n",
       "    </tr>\n",
       "    <tr>\n",
       "      <td>200</td>\n",
       "      <td>2.320800</td>\n",
       "    </tr>\n",
       "    <tr>\n",
       "      <td>250</td>\n",
       "      <td>2.336800</td>\n",
       "    </tr>\n",
       "    <tr>\n",
       "      <td>300</td>\n",
       "      <td>2.322700</td>\n",
       "    </tr>\n",
       "  </tbody>\n",
       "</table><p>"
      ],
      "text/plain": [
       "<IPython.core.display.HTML object>"
      ]
     },
     "metadata": {},
     "output_type": "display_data"
    },
    {
     "data": {
      "text/html": [
       "\n",
       "    <div>\n",
       "      \n",
       "      <progress value='640' max='640' style='width:300px; height:20px; vertical-align: middle;'></progress>\n",
       "      [640/640 01:36, Epoch 16/16]\n",
       "    </div>\n",
       "    <table border=\"1\" class=\"dataframe\">\n",
       "  <thead>\n",
       " <tr style=\"text-align: left;\">\n",
       "      <th>Step</th>\n",
       "      <th>Training Loss</th>\n",
       "    </tr>\n",
       "  </thead>\n",
       "  <tbody>\n",
       "    <tr>\n",
       "      <td>1</td>\n",
       "      <td>2.252100</td>\n",
       "    </tr>\n",
       "    <tr>\n",
       "      <td>50</td>\n",
       "      <td>2.328700</td>\n",
       "    </tr>\n",
       "    <tr>\n",
       "      <td>100</td>\n",
       "      <td>2.300600</td>\n",
       "    </tr>\n",
       "    <tr>\n",
       "      <td>150</td>\n",
       "      <td>2.331800</td>\n",
       "    </tr>\n",
       "    <tr>\n",
       "      <td>200</td>\n",
       "      <td>2.320300</td>\n",
       "    </tr>\n",
       "    <tr>\n",
       "      <td>250</td>\n",
       "      <td>2.300800</td>\n",
       "    </tr>\n",
       "    <tr>\n",
       "      <td>300</td>\n",
       "      <td>2.313000</td>\n",
       "    </tr>\n",
       "    <tr>\n",
       "      <td>350</td>\n",
       "      <td>2.307300</td>\n",
       "    </tr>\n",
       "    <tr>\n",
       "      <td>400</td>\n",
       "      <td>2.307800</td>\n",
       "    </tr>\n",
       "    <tr>\n",
       "      <td>450</td>\n",
       "      <td>2.301100</td>\n",
       "    </tr>\n",
       "    <tr>\n",
       "      <td>500</td>\n",
       "      <td>2.312000</td>\n",
       "    </tr>\n",
       "    <tr>\n",
       "      <td>550</td>\n",
       "      <td>2.316600</td>\n",
       "    </tr>\n",
       "    <tr>\n",
       "      <td>600</td>\n",
       "      <td>2.294800</td>\n",
       "    </tr>\n",
       "  </tbody>\n",
       "</table><p>"
      ],
      "text/plain": [
       "<IPython.core.display.HTML object>"
      ]
     },
     "metadata": {},
     "output_type": "display_data"
    },
    {
     "data": {
      "text/html": [
       "\n",
       "    <div>\n",
       "      \n",
       "      <progress value='640' max='640' style='width:300px; height:20px; vertical-align: middle;'></progress>\n",
       "      [640/640 01:37, Epoch 16/16]\n",
       "    </div>\n",
       "    <table border=\"1\" class=\"dataframe\">\n",
       "  <thead>\n",
       " <tr style=\"text-align: left;\">\n",
       "      <th>Step</th>\n",
       "      <th>Training Loss</th>\n",
       "    </tr>\n",
       "  </thead>\n",
       "  <tbody>\n",
       "    <tr>\n",
       "      <td>1</td>\n",
       "      <td>2.398800</td>\n",
       "    </tr>\n",
       "    <tr>\n",
       "      <td>50</td>\n",
       "      <td>2.329000</td>\n",
       "    </tr>\n",
       "    <tr>\n",
       "      <td>100</td>\n",
       "      <td>2.360700</td>\n",
       "    </tr>\n",
       "    <tr>\n",
       "      <td>150</td>\n",
       "      <td>2.336300</td>\n",
       "    </tr>\n",
       "    <tr>\n",
       "      <td>200</td>\n",
       "      <td>2.324500</td>\n",
       "    </tr>\n",
       "    <tr>\n",
       "      <td>250</td>\n",
       "      <td>2.321200</td>\n",
       "    </tr>\n",
       "    <tr>\n",
       "      <td>300</td>\n",
       "      <td>2.333900</td>\n",
       "    </tr>\n",
       "    <tr>\n",
       "      <td>350</td>\n",
       "      <td>2.330400</td>\n",
       "    </tr>\n",
       "    <tr>\n",
       "      <td>400</td>\n",
       "      <td>2.329200</td>\n",
       "    </tr>\n",
       "    <tr>\n",
       "      <td>450</td>\n",
       "      <td>2.325900</td>\n",
       "    </tr>\n",
       "    <tr>\n",
       "      <td>500</td>\n",
       "      <td>2.324700</td>\n",
       "    </tr>\n",
       "    <tr>\n",
       "      <td>550</td>\n",
       "      <td>2.329800</td>\n",
       "    </tr>\n",
       "    <tr>\n",
       "      <td>600</td>\n",
       "      <td>2.333200</td>\n",
       "    </tr>\n",
       "  </tbody>\n",
       "</table><p>"
      ],
      "text/plain": [
       "<IPython.core.display.HTML object>"
      ]
     },
     "metadata": {},
     "output_type": "display_data"
    }
   ],
   "source": [
    "train_results_eng_only = trainer_eng_only.train()\n",
    "train_results_eng_all = trainer_eng_all.train()\n",
    "train_results_all = trainer_all.train()"
   ]
  },
  {
   "cell_type": "markdown",
   "id": "f0b892e9-c86a-4e37-8c9c-72857e35b1f7",
   "metadata": {},
   "source": [
    "the output: there is 160 samples, and batchsize of 8, so 160/8=20 batches per epoch. and there are 16 epochs, so 20*16=320. the logging is done in step of 50, which is defined in the trainer initialization"
   ]
  },
  {
   "cell_type": "code",
   "execution_count": 33,
   "id": "b13024ea-80ae-4ce3-bd3b-a92b640b9179",
   "metadata": {
    "jupyter": {
     "source_hidden": true
    }
   },
   "outputs": [
    {
     "data": {
      "text/html": [],
      "text/plain": [
       "<IPython.core.display.HTML object>"
      ]
     },
     "metadata": {},
     "output_type": "display_data"
    },
    {
     "data": {
      "text/html": [],
      "text/plain": [
       "<IPython.core.display.HTML object>"
      ]
     },
     "metadata": {},
     "output_type": "display_data"
    },
    {
     "data": {
      "text/html": [],
      "text/plain": [
       "<IPython.core.display.HTML object>"
      ]
     },
     "metadata": {},
     "output_type": "display_data"
    }
   ],
   "source": [
    "test_results_eng_only = trainer_eng_only.predict(test_dataset=test_dataset_eng)\n",
    "test_results_eng_all = trainer_eng_all.predict(test_dataset=test_dataset_all)\n",
    "test_results_all = trainer_all.predict(test_dataset=test_dataset_all)"
   ]
  },
  {
   "cell_type": "code",
   "execution_count": 34,
   "id": "8063ef67-8ae8-461a-aabe-7d8b388083df",
   "metadata": {},
   "outputs": [
    {
     "data": {
      "image/png": "[encoded data removed]",
      "text/plain": [
       "<Figure size 1200x600 with 1 Axes>"
      ]
     },
     "metadata": {},
     "output_type": "display_data"
    }
   ],
   "source": [
    "import numpy as np\n",
    "import matplotlib.pyplot as plt\n",
    "\n",
    "# Extract F1 scores from each test result\n",
    "f1_scores_eng_only = test_results_eng_only.metrics[\"test_f1\"]\n",
    "f1_scores_eng_all = test_results_eng_all.metrics[\"test_f1\"]\n",
    "f1_scores_all = test_results_all.metrics[\"test_f1\"]\n",
    "\n",
    "# Number of classes\n",
    "num_classes = len(f1_scores_eng_only)\n",
    "\n",
    "# Create x positions for the bars\n",
    "x = np.arange(num_classes)\n",
    "width = 0.25\n",
    "\n",
    "# Plot the F1 scores\n",
    "plt.figure(figsize=(12, 6))\n",
    "bars_eng_only = plt.bar(x - width, f1_scores_eng_only, width, label='F1 (Eng Only)', alpha=0.8)\n",
    "bars_eng_all = plt.bar(x, f1_scores_eng_all, width, label='F1 (Eng + All)', alpha=0.8)\n",
    "bars_all = plt.bar(x + width, f1_scores_all, width, label='F1 (All)', alpha=0.8)\n",
    "\n",
    "# Add labels, title, and legend\n",
    "plt.xlabel('Classes')\n",
    "plt.ylabel('F1 Scores')\n",
    "plt.title('F1 Scores Comparison Across Different Test Results')\n",
    "plt.ylim(0, 1)\n",
    "plt.xticks(ticks=x, labels=range(num_classes))\n",
    "plt.legend()\n",
    "\n",
    "# Add F1 score values on top of bars\n",
    "for bars in [bars_eng_only, bars_eng_all, bars_all]:\n",
    "    for bar in bars:\n",
    "        height = bar.get_height()\n",
    "        plt.text(\n",
    "            bar.get_x() + bar.get_width() / 2,\n",
    "            height + 0.02,  # Slightly above the bar\n",
    "            f'{height:.2f}',\n",
    "            ha='center',\n",
    "            va='bottom',\n",
    "            fontsize=9\n",
    "        )\n",
    "\n",
    "# Show the plot\n",
    "plt.show()\n"
   ]
  },
  {
   "cell_type": "code",
   "execution_count": 35,
   "id": "8bc06762-bea9-43f2-b0d2-b437fd35901a",
   "metadata": {},
   "outputs": [
    {
     "name": "stdout",
     "output_type": "stream",
     "text": [
      "F1 Scores (Eng Only): [0.0, 0.143, 0.0, 0.0, 0.353, 0.0, 0.0, 0.0, 0.0, 0.0]\n",
      "F1 Scores (Eng + All): [0.193, 0.0, 0.0, 0.0, 0.0, 0.0, 0.0, 0.0, 0.143, 0.0]\n",
      "F1 Scores (All): [0.0, 0.0, 0.0, 0.1, 0.0, 0.111, 0.167, 0.0, 0.0, 0.125]\n"
     ]
    }
   ],
   "source": [
    "# Convert F1 scores to plain Python floats and round to 3 decimals\n",
    "f1_scores_eng_only = [round(float(score), 3) for score in f1_scores_eng_only]\n",
    "f1_scores_eng_all = [round(float(score), 3) for score in f1_scores_eng_all]\n",
    "f1_scores_all = [round(float(score), 3) for score in f1_scores_all]\n",
    "\n",
    "print(\"F1 Scores (Eng Only):\", f1_scores_eng_only)\n",
    "print(\"F1 Scores (Eng + All):\", f1_scores_eng_all)\n",
    "print(\"F1 Scores (All):\", f1_scores_all)\n"
   ]
  },
  {
   "cell_type": "code",
   "execution_count": 46,
   "id": "f5207d53-4a68-4d72-b06f-c65c23844828",
   "metadata": {},
   "outputs": [
    {
     "data": {
      "text/plain": [
       "160"
      ]
     },
     "execution_count": 46,
     "metadata": {},
     "output_type": "execute_result"
    }
   ],
   "source": [
    "len(train_dataset_eng)"
   ]
  },
  {
   "cell_type": "markdown",
   "id": "3eb8eafb-271d-44f4-8f8e-863646139130",
   "metadata": {},
   "source": [
    "#### Inference"
   ]
  },
  {
   "cell_type": "code",
   "execution_count": 36,
   "id": "c94ee53e-ef5b-4a26-8023-3fb2809ddfaf",
   "metadata": {},
   "outputs": [],
   "source": [
    "def inference(model, input_sentance, tokenizer, device):\n",
    "    input_tokens = tokenizer(input_sequence, return_tensors='pt').to(device)\n",
    "    model = model.to(device)\n",
    "    model.eval()\n",
    "    with torch.no_grad():\n",
    "        logits = model(**inputs).logits\n",
    "    top_3_probs, top_3_indeces = torch.topk(logits, k=3, dim=1)\n",
    "    top_3_experts = [f'expert_{i}' for i in top_3_indeces.squeeze().tolist()]\n",
    "    return top_3_experts, top_3_probs.squeeze().tolist()\n",
    "    "
   ]
  }
 ],
 "metadata": {
  "kernelspec": {
   "display_name": "Python 3.11 (torch)",
   "language": "python",
   "name": "python311"
  },
  "language_info": {
   "codemirror_mode": {
    "name": "ipython",
    "version": 3
   },
   "file_extension": ".py",
   "mimetype": "text/x-python",
   "name": "python",
   "nbconvert_exporter": "python",
   "pygments_lexer": "ipython3",
   "version": "3.11.0"
  }
 },
 "nbformat": 4,
 "nbformat_minor": 5
}
